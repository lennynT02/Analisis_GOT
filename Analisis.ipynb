{
 "cells": [
  {
   "cell_type": "markdown",
   "metadata": {},
   "source": [
    "### Analisis de personaje de Game Of Throne"
   ]
  },
  {
   "cell_type": "code",
   "execution_count": 1,
   "metadata": {},
   "outputs": [],
   "source": [
    "import nltk\n",
    "from nltk.corpus import PlaintextCorpusReader\n",
    "from textblob import TextBlob\n",
    "from nltk.probability import FreqDist"
   ]
  },
  {
   "cell_type": "code",
   "execution_count": 2,
   "metadata": {},
   "outputs": [],
   "source": [
    "\n",
    "def Personaje(text):\n",
    "    corpus = nltk.corpus.PlaintextCorpusReader('.',text+'.txt')\n",
    "    oraciones = corpus.sents()\n",
    "    personajes = []\n",
    "    for oracion in oraciones:\n",
    "        oracion_str = ' '.join(oracion)  # Une las palabras en una cadena\n",
    "        wiki = TextBlob(oracion_str) \n",
    "        for i in range(len(wiki.tags)-1):\n",
    "            if (wiki.tags[i][1] == 'NNP' and wiki.tags[i+1][1] == 'NNP' and wiki.tags[i][0] != \"’\" and wiki.tags[i+1][0] != \"’\" \n",
    "                and wiki.tags[i+1][0] != \"”\" and wiki.tags[i][0] != \"”\" and wiki.tags[i+1][0] != \"Lord\" and wiki.tags[i][0] != \"Lord\"\n",
    "                and wiki.tags[i+1][0] != \"Ser\" and wiki.tags[i][0] != \"Ser\"):\n",
    "                personajes.append(wiki.tags[i][0] + ' ' + wiki.tags[i+1][0])\n",
    "    \n",
    "    total_personajes=len(personajes)\n",
    "    frecuencia = nltk.FreqDist(personajes)\n",
    "    for personaje, frecuency in frecuencia.most_common(30):\n",
    "        print(f\"Personaje:{personaje}--->Frecuencia:{((frecuency/total_personajes) * 100):.2f} %\")"
   ]
  },
  {
   "cell_type": "code",
   "execution_count": 3,
   "metadata": {},
   "outputs": [
    {
     "name": "stdout",
     "output_type": "stream",
     "text": [
      "Personaje:Maester Luwin--->Frecuencia:1.31 %\n",
      "Personaje:Jon Snow--->Frecuencia:1.24 %\n",
      "Personaje:Hot Pie--->Frecuencia:1.22 %\n",
      "Personaje:Seven Kingdoms--->Frecuencia:1.03 %\n",
      "Personaje:Old Bear--->Frecuencia:1.02 %\n",
      "Personaje:Casterly Rock--->Frecuencia:1.01 %\n",
      "Personaje:Khal Drogo--->Frecuencia:0.86 %\n",
      "Personaje:Maester Aemon--->Frecuencia:0.80 %\n",
      "Personaje:Eddard Stark--->Frecuencia:0.79 %\n",
      "Personaje:Castle Black--->Frecuencia:0.73 %\n",
      "Personaje:Iron Throne--->Frecuencia:0.68 %\n",
      "Personaje:Grand Maester--->Frecuencia:0.68 %\n",
      "Personaje:Old Nan--->Frecuencia:0.66 %\n",
      "Personaje:Mance Rayder--->Frecuencia:0.60 %\n",
      "Personaje:Red Keep--->Frecuencia:0.58 %\n",
      "Personaje:Jon Arryn--->Frecuencia:0.57 %\n",
      "Personaje:King Robert--->Frecuencia:0.56 %\n",
      "Personaje:Sandor Clegane--->Frecuencia:0.56 %\n",
      "Personaje:Maester Pycelle--->Frecuencia:0.55 %\n",
      "Personaje:Septa Mordane--->Frecuencia:0.55 %\n",
      "Personaje:Theon Greyjoy--->Frecuencia:0.53 %\n",
      "Personaje:Roose Bolton--->Frecuencia:0.52 %\n",
      "Personaje:Grey Wind--->Frecuencia:0.52 %\n",
      "Personaje:Robb Stark--->Frecuencia:0.51 %\n",
      "Personaje:Lady Catelyn--->Frecuencia:0.50 %\n",
      "Personaje:Tyrion Lannister--->Frecuencia:0.48 %\n",
      "Personaje:Ned Stark--->Frecuencia:0.47 %\n",
      "Personaje:Tywin Lannister--->Frecuencia:0.46 %\n",
      "Personaje:Jaime Lannister--->Frecuencia:0.45 %\n",
      "Personaje:Catelyn Stark--->Frecuencia:0.44 %\n"
     ]
    }
   ],
   "source": [
    "Personaje(\"gameofthrones\")"
   ]
  },
  {
   "cell_type": "code",
   "execution_count": null,
   "metadata": {},
   "outputs": [],
   "source": []
  }
 ],
 "metadata": {
  "kernelspec": {
   "display_name": "Python 3",
   "language": "python",
   "name": "python3"
  },
  "language_info": {
   "codemirror_mode": {
    "name": "ipython",
    "version": 3
   },
   "file_extension": ".py",
   "mimetype": "text/x-python",
   "name": "python",
   "nbconvert_exporter": "python",
   "pygments_lexer": "ipython3",
   "version": "3.12.0"
  }
 },
 "nbformat": 4,
 "nbformat_minor": 2
}
